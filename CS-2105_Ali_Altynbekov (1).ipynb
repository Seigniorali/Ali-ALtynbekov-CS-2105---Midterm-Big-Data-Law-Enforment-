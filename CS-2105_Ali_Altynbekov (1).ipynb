{
 "cells": [
  {
   "cell_type": "markdown",
   "id": "6b1bc889",
   "metadata": {},
   "source": [
    "# 1st task: Create a Jupyter Notebook"
   ]
  },
  {
   "cell_type": "markdown",
   "id": "0cef6adb",
   "metadata": {},
   "source": [
    "# 2nd task: Create markdown cell with title of the notebook"
   ]
  },
  {
   "cell_type": "markdown",
   "id": "0bebf7c9",
   "metadata": {},
   "source": [
    "# Big Data in Law Enforcement"
   ]
  },
  {
   "cell_type": "markdown",
   "id": "884f401d",
   "metadata": {},
   "source": [
    "# 3rd task: Create a markdown cell for an introduction "
   ]
  },
  {
   "cell_type": "markdown",
   "id": "c06a3f9e",
   "metadata": {},
   "source": [
    "## Introduction\n",
    "Big Data plays a crucial role in modern Cyber Security. Analyzing vast amounts of data allows security professionals to detect and respond to threats more effectively, enhancing overall cybersecurity measures.\n",
    "\n",
    "**Objectives**\n",
    "\n",
    "- List some popular languages for Data Science.\n",
    "- Introduce commonly used libraries in Data Science.\n",
    "- Create and evaluate arithmetic expressions in Python.\n",
    "- Convert minutes to hours using Python.\n",
    "- Provide an overview of Data Science tools."
   ]
  },
  {
   "cell_type": "markdown",
   "id": "06f18c0e",
   "metadata": {},
   "source": [
    "# 4th task: Create a markdown cell to list data science language"
   ]
  },
  {
   "cell_type": "markdown",
   "id": "aba2d44f",
   "metadata": {},
   "source": [
    "*Some of the popular languages that Data Scientists use are:*\n",
    "\n",
    "1. Python\n",
    "2. R\n",
    "3. SQL\n",
    "4. Julia (optional)"
   ]
  },
  {
   "cell_type": "markdown",
   "id": "575a071f",
   "metadata": {},
   "source": [
    "# 5th task: Create a markdown cell to list data science libraries"
   ]
  },
  {
   "cell_type": "markdown",
   "id": "0fff4a4f",
   "metadata": {},
   "source": [
    "*Some of the commonly used libraries used by Data Scientists include:*\n",
    "\n",
    "- Pandas (Python)\n",
    "- NumPy (Python)\n",
    "- Matplotlib (Python)\n",
    "- Scikit-Learn (Python)\n",
    "- TensorFlow (Python)\n",
    "- Keras (Python)\n",
    "- PyTorch (Python)\n",
    "- Rattle (R)\n",
    "- ggplot2 (R)\n",
    "- Caret (R)\n"
   ]
  },
  {
   "cell_type": "markdown",
   "id": "d380e4dd",
   "metadata": {},
   "source": [
    "# 6th task: Create a markdown cell with a table of Data Science tools."
   ]
  },
  {
   "cell_type": "markdown",
   "id": "479fd35b",
   "metadata": {},
   "source": [
    "| Data Science Tools       |\n",
    "|--------------------------|\n",
    "| Jupyter Notebook         |\n",
    "| Apache Spark             |\n",
    "| RStudio                  |\n"
   ]
  },
  {
   "cell_type": "markdown",
   "id": "35a8361a",
   "metadata": {},
   "source": [
    "# 7th task: Create a markdown cell with arithmetic expression"
   ]
  },
  {
   "cell_type": "markdown",
   "id": "931e1c22",
   "metadata": {},
   "source": [
    "### Below are a few examples of evaluating arithmetic expressions in Python"
   ]
  },
  {
   "cell_type": "markdown",
   "id": "530c893d",
   "metadata": {},
   "source": [
    "# 8th task: Create a code to multiply and add numbers"
   ]
  },
  {
   "cell_type": "code",
   "execution_count": 6,
   "id": "cafad339",
   "metadata": {},
   "outputs": [
    {
     "data": {
      "text/plain": [
       "33"
      ]
     },
     "execution_count": 6,
     "metadata": {},
     "output_type": "execute_result"
    }
   ],
   "source": [
    "# This is a simple arithmetic expression\n",
    "result = (4 * 6) + 9\n",
    "result"
   ]
  },
  {
   "cell_type": "markdown",
   "id": "ef376a5e",
   "metadata": {},
   "source": [
    "# 9th task: Create a code cell to convert minutes to hours "
   ]
  },
  {
   "cell_type": "code",
   "execution_count": 10,
   "id": "e7ffa95a",
   "metadata": {},
   "outputs": [
    {
     "data": {
      "text/plain": [
       "5.0"
      ]
     },
     "execution_count": 10,
     "metadata": {},
     "output_type": "execute_result"
    }
   ],
   "source": [
    "# This will convert 300 minutes to hours by dividing by 60.\n",
    "minutes = 300\n",
    "hours = minutes / 60\n",
    "hours"
   ]
  },
  {
   "cell_type": "markdown",
   "id": "73961cf6",
   "metadata": {},
   "source": [
    "# 10th task: Insert a markdown cell to list Objectives"
   ]
  },
  {
   "cell_type": "markdown",
   "id": "85949717",
   "metadata": {},
   "source": [
    "**Objectives**\n",
    "\n",
    "- List some popular languages for Data Science.\n",
    "- Introduce commonly used libraries in Data Science.\n",
    "- Create and evaluate arithmetic expressions in Python.\n",
    "- Convert minutes to hours using Python.\n",
    "- Provide an overview of Data Science tools.\n"
   ]
  },
  {
   "cell_type": "markdown",
   "id": "11c4d490",
   "metadata": {},
   "source": [
    "# 11th task: Create a markdown cell to indicate the Author’s name "
   ]
  },
  {
   "cell_type": "markdown",
   "id": "2a61807e",
   "metadata": {},
   "source": [
    "## Author\n",
    "Ali Altynbekov"
   ]
  },
  {
   "cell_type": "markdown",
   "id": "6292a385",
   "metadata": {},
   "source": [
    "# 12th task: Share your Notebook though GitHub"
   ]
  },
  {
   "cell_type": "code",
   "execution_count": null,
   "id": "9ffe04f2",
   "metadata": {},
   "outputs": [],
   "source": []
  }
 ],
 "metadata": {
  "kernelspec": {
   "display_name": "Python 3 (ipykernel)",
   "language": "python",
   "name": "python3"
  },
  "language_info": {
   "codemirror_mode": {
    "name": "ipython",
    "version": 3
   },
   "file_extension": ".py",
   "mimetype": "text/x-python",
   "name": "python",
   "nbconvert_exporter": "python",
   "pygments_lexer": "ipython3",
   "version": "3.9.13"
  }
 },
 "nbformat": 4,
 "nbformat_minor": 5
}
